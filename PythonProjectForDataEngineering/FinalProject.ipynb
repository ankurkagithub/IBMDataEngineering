{
 "cells": [
  {
   "cell_type": "markdown",
   "id": "02293766-8ee2-43e5-9f44-1c049614652b",
   "metadata": {},
   "source": [
    "# Final Project Overview\n",
    "Your boss asked you to compile the list of the top 10 largest banks in the world ranked by market capitalization in billion USD. Further, you need to transform the data and store it in USD, GBP, EUR, and INR per the exchange rate information made available to you as a CSV file. You should save the processed information table locally in a CSV format and as a database table. Managers from different countries will query the database table to extract the list and note the market capitalization value in their own currency.\n",
    "\n",
    "## Direction\n",
    "1. Write a function to extract the tabular information from the given URL under the heading By Market Capitalization, and save it to a data frame.\n",
    "2. Write a function to transform the data frame by adding columns for Market Capitalization in GBP, EUR, and INR, rounded to 2 decimal places, based on the exchange rate information shared as a CSV file.\n",
    "3. Write a function to load the transformed data frame to an output CSV file.\n",
    "4. Write a function to load the transformed data frame to an SQL database server as a table.\n",
    "5. Write a function to run queries on the database table.\n",
    "6. Run the following queries on the database table:\n",
    "   - Extract the information for the London office, that is Name and MC_GBP_Billion\n",
    "   - Extract the information for the Berlin office, that is Name and MC_EUR_Billion\n",
    "   - Extract the information for New Delhi office, that is Name and MC_INR_Billion\n",
    "8. Write a function to log the progress of the code.\n",
    "9. While executing the data initialization commands and function calls, maintain appropriate log entries."
   ]
  },
  {
   "cell_type": "markdown",
   "id": "8a2fe2b6-2bc4-4e42-9c8a-1cc24368f9de",
   "metadata": {},
   "source": [
    "importing packages/libraries"
   ]
  },
  {
   "cell_type": "code",
   "execution_count": 107,
   "id": "b6948999-cea7-4f0e-b63f-e9c0992c16f9",
   "metadata": {},
   "outputs": [],
   "source": [
    "import requests\n",
    "import pandas as pd\n",
    "from bs4 import BeautifulSoup\n",
    "from datetime import datetime\n",
    "import sqlite3"
   ]
  },
  {
   "cell_type": "markdown",
   "id": "110922ac-d757-4d58-ae1d-a405450e041c",
   "metadata": {},
   "source": [
    "Creating a log function"
   ]
  },
  {
   "cell_type": "code",
   "execution_count": 99,
   "id": "bbdee0b8-d8a1-4455-acee-eea58295c896",
   "metadata": {},
   "outputs": [],
   "source": [
    "def log_info(data):\n",
    "    file = 'code_log.txt'\n",
    "    timeStamp_format = '%Y-%m-%d %H:%M:%S'\n",
    "    timeStamp = datetime.now().strftime(timestamp_format)\n",
    "    with open(file, 'a+') as f:\n",
    "        f.write(f'{timeStamp} - {data}\\n')"
   ]
  },
  {
   "cell_type": "markdown",
   "id": "2b43afa5-7b70-4d8f-8290-8f00241cb57e",
   "metadata": {},
   "source": [
    "Accessing URL data"
   ]
  },
  {
   "cell_type": "code",
   "execution_count": 135,
   "id": "621d6095-dfe2-4960-9551-88bfd1eab41c",
   "metadata": {},
   "outputs": [],
   "source": [
    "url = 'https://web.archive.org/web/20230908091635 /https://en.wikipedia.org/wiki/List_of_largest_banks'\n",
    "output_CSV_path = './Largest_banks_data.csv'\n",
    "db_name = 'Banks.db'\n",
    "db_table_name = 'Largest_banks'\n",
    "log_file = 'code_log.txt'\n",
    "exchange_rates = 'exchange_rate.csv'"
   ]
  },
  {
   "cell_type": "code",
   "execution_count": 144,
   "id": "a75c400e-9289-4959-8048-bebc4bfc7afa",
   "metadata": {},
   "outputs": [],
   "source": [
    "def extract(url, table_attribs):\n",
    "    response = requests.get(url)\n",
    "    log_info(f'URL Fetched: status code is {response.status_code}')\n",
    "    if response.status_code == 200:\n",
    "        soup = BeautifulSoup(response.content, 'html.parser')\n",
    "        table = soup.find_all('table')[0]\n",
    "        rows = table.find_all('tr')\n",
    "        rows = rows[1:]\n",
    "        data = {}\n",
    "        # data['rank'] = []\n",
    "        data[table_attribs[0]] = []\n",
    "        data[table_attribs[1]] = []\n",
    "        for row in rows:\n",
    "            # rank = int(row.find_all('td')[0].text.strip())\n",
    "            bank_name = row.find_all('td')[1].find_all('a')[-1].text\n",
    "            market_cap = float(row.find_all('td')[2].text.strip())\n",
    "            # data['rank'].append(rank)\n",
    "            data[table_attribs[0]].append(bank_name)\n",
    "            data[table_attribs[1]].append(market_cap)\n",
    "        df = pd.DataFrame(data)\n",
    "        log_info('Extraction: data extracted and loaded into a DataFrame')\n",
    "        return df"
   ]
  },
  {
   "cell_type": "code",
   "execution_count": 143,
   "id": "a7104aaf-1c7f-476c-a7bc-dd77c930a546",
   "metadata": {},
   "outputs": [
    {
     "data": {
      "text/plain": [
       "int"
      ]
     },
     "execution_count": 143,
     "metadata": {},
     "output_type": "execute_result"
    }
   ],
   "source": [
    "df = extract(url,['bank_name', 'market_cap(USD_billion)'])\n"
   ]
  },
  {
   "cell_type": "code",
   "execution_count": 140,
   "id": "94711da9-ec48-4bfa-bd41-16bc069a20b0",
   "metadata": {},
   "outputs": [],
   "source": [
    "def transform(df, csv_path):\n",
    "    ''' This function accesses the CSV file for exchange rate\n",
    "    information, and adds three columns to the data frame, each\n",
    "    containing the transformed version of Market Cap column to\n",
    "    respective currencies'''\n",
    "    ex_df = pd.read_csv(exchange_rates, index_col='Currency') # Converting currency into a DF\n",
    "    df['market_cap(EUR_billion)'] = df['market_cap(USD_billion)']*ex_df.loc['EUR','Rate']\n",
    "    df['market_cap(GBP_billion)'] = df['market_cap(USD_billion)']*ex_df.loc['GBP','Rate']\n",
    "    df['market_cap(INR_billion)'] = df['market_cap(USD_billion)']*ex_df.loc['INR','Rate']\n",
    "    log_info('Transformation: New currency added for EUR, GBP and INR')\n",
    "    return df"
   ]
  },
  {
   "cell_type": "code",
   "execution_count": 141,
   "id": "0da4a406-4a38-4dda-99c4-420a699604dd",
   "metadata": {},
   "outputs": [
    {
     "data": {
      "text/html": [
       "<div>\n",
       "<style scoped>\n",
       "    .dataframe tbody tr th:only-of-type {\n",
       "        vertical-align: middle;\n",
       "    }\n",
       "\n",
       "    .dataframe tbody tr th {\n",
       "        vertical-align: top;\n",
       "    }\n",
       "\n",
       "    .dataframe thead th {\n",
       "        text-align: right;\n",
       "    }\n",
       "</style>\n",
       "<table border=\"1\" class=\"dataframe\">\n",
       "  <thead>\n",
       "    <tr style=\"text-align: right;\">\n",
       "      <th></th>\n",
       "      <th>bank_name</th>\n",
       "      <th>market_cap(USD_billion)</th>\n",
       "      <th>market_cap(EUR_billion)</th>\n",
       "      <th>market_cap(GBP_billion)</th>\n",
       "      <th>market_cap(INR_billion)</th>\n",
       "    </tr>\n",
       "  </thead>\n",
       "  <tbody>\n",
       "    <tr>\n",
       "      <th>0</th>\n",
       "      <td>JPMorgan Chase</td>\n",
       "      <td>432.92</td>\n",
       "      <td>402.6156</td>\n",
       "      <td>346.336</td>\n",
       "      <td>35910.7140</td>\n",
       "    </tr>\n",
       "    <tr>\n",
       "      <th>1</th>\n",
       "      <td>Bank of America</td>\n",
       "      <td>231.52</td>\n",
       "      <td>215.3136</td>\n",
       "      <td>185.216</td>\n",
       "      <td>19204.5840</td>\n",
       "    </tr>\n",
       "    <tr>\n",
       "      <th>2</th>\n",
       "      <td>Industrial and Commercial Bank of China</td>\n",
       "      <td>194.56</td>\n",
       "      <td>180.9408</td>\n",
       "      <td>155.648</td>\n",
       "      <td>16138.7520</td>\n",
       "    </tr>\n",
       "    <tr>\n",
       "      <th>3</th>\n",
       "      <td>Agricultural Bank of China</td>\n",
       "      <td>160.68</td>\n",
       "      <td>149.4324</td>\n",
       "      <td>128.544</td>\n",
       "      <td>13328.4060</td>\n",
       "    </tr>\n",
       "    <tr>\n",
       "      <th>4</th>\n",
       "      <td>HDFC Bank</td>\n",
       "      <td>157.91</td>\n",
       "      <td>146.8563</td>\n",
       "      <td>126.328</td>\n",
       "      <td>13098.6345</td>\n",
       "    </tr>\n",
       "    <tr>\n",
       "      <th>5</th>\n",
       "      <td>Wells Fargo</td>\n",
       "      <td>155.87</td>\n",
       "      <td>144.9591</td>\n",
       "      <td>124.696</td>\n",
       "      <td>12929.4165</td>\n",
       "    </tr>\n",
       "    <tr>\n",
       "      <th>6</th>\n",
       "      <td>HSBC Holdings PLC</td>\n",
       "      <td>148.90</td>\n",
       "      <td>138.4770</td>\n",
       "      <td>119.120</td>\n",
       "      <td>12351.2550</td>\n",
       "    </tr>\n",
       "    <tr>\n",
       "      <th>7</th>\n",
       "      <td>Morgan Stanley</td>\n",
       "      <td>140.83</td>\n",
       "      <td>130.9719</td>\n",
       "      <td>112.664</td>\n",
       "      <td>11681.8485</td>\n",
       "    </tr>\n",
       "    <tr>\n",
       "      <th>8</th>\n",
       "      <td>China Construction Bank</td>\n",
       "      <td>139.82</td>\n",
       "      <td>130.0326</td>\n",
       "      <td>111.856</td>\n",
       "      <td>11598.0690</td>\n",
       "    </tr>\n",
       "    <tr>\n",
       "      <th>9</th>\n",
       "      <td>Bank of China</td>\n",
       "      <td>136.81</td>\n",
       "      <td>127.2333</td>\n",
       "      <td>109.448</td>\n",
       "      <td>11348.3895</td>\n",
       "    </tr>\n",
       "  </tbody>\n",
       "</table>\n",
       "</div>"
      ],
      "text/plain": [
       "                                 bank_name  market_cap(USD_billion)  \\\n",
       "0                           JPMorgan Chase                   432.92   \n",
       "1                          Bank of America                   231.52   \n",
       "2  Industrial and Commercial Bank of China                   194.56   \n",
       "3               Agricultural Bank of China                   160.68   \n",
       "4                                HDFC Bank                   157.91   \n",
       "5                              Wells Fargo                   155.87   \n",
       "6                        HSBC Holdings PLC                   148.90   \n",
       "7                           Morgan Stanley                   140.83   \n",
       "8                  China Construction Bank                   139.82   \n",
       "9                            Bank of China                   136.81   \n",
       "\n",
       "   market_cap(EUR_billion)  market_cap(GBP_billion)  market_cap(INR_billion)  \n",
       "0                 402.6156                  346.336               35910.7140  \n",
       "1                 215.3136                  185.216               19204.5840  \n",
       "2                 180.9408                  155.648               16138.7520  \n",
       "3                 149.4324                  128.544               13328.4060  \n",
       "4                 146.8563                  126.328               13098.6345  \n",
       "5                 144.9591                  124.696               12929.4165  \n",
       "6                 138.4770                  119.120               12351.2550  \n",
       "7                 130.9719                  112.664               11681.8485  \n",
       "8                 130.0326                  111.856               11598.0690  \n",
       "9                 127.2333                  109.448               11348.3895  "
      ]
     },
     "execution_count": 141,
     "metadata": {},
     "output_type": "execute_result"
    }
   ],
   "source": [
    "new_df = transform(df, exchange_rates)\n",
    "new_df"
   ]
  },
  {
   "cell_type": "code",
   "execution_count": null,
   "id": "571a92ca-9a66-4d63-bbee-809f189365fe",
   "metadata": {},
   "outputs": [],
   "source": []
  }
 ],
 "metadata": {
  "kernelspec": {
   "display_name": "Python 3 (ipykernel)",
   "language": "python",
   "name": "python3"
  },
  "language_info": {
   "codemirror_mode": {
    "name": "ipython",
    "version": 3
   },
   "file_extension": ".py",
   "mimetype": "text/x-python",
   "name": "python",
   "nbconvert_exporter": "python",
   "pygments_lexer": "ipython3",
   "version": "3.10.6"
  }
 },
 "nbformat": 4,
 "nbformat_minor": 5
}
