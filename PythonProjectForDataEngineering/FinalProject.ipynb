{
 "cells": [
  {
   "cell_type": "markdown",
   "id": "02293766-8ee2-43e5-9f44-1c049614652b",
   "metadata": {},
   "source": [
    "# Final Project Overview\n",
    "Your boss asked you to compile the list of the top 10 largest banks in the world ranked by market capitalization in billion USD. Further, you need to transform the data and store it in USD, GBP, EUR, and INR per the exchange rate information made available to you as a CSV file. You should save the processed information table locally in a CSV format and as a database table. Managers from different countries will query the database table to extract the list and note the market capitalization value in their own currency.\n",
    "\n",
    "## Direction\n",
    "1. Write a function to extract the tabular information from the given URL under the heading By Market Capitalization, and save it to a data frame.\n",
    "2. Write a function to transform the data frame by adding columns for Market Capitalization in GBP, EUR, and INR, rounded to 2 decimal places, based on the exchange rate information shared as a CSV file.\n",
    "3. Write a function to load the transformed data frame to an output CSV file.\n",
    "4. Write a function to load the transformed data frame to an SQL database server as a table.\n",
    "5. Write a function to run queries on the database table.\n",
    "6. Run the following queries on the database table:\n",
    "   - Extract the information for the London office, that is Name and MC_GBP_Billion\n",
    "   - Extract the information for the Berlin office, that is Name and MC_EUR_Billion\n",
    "   - Extract the information for New Delhi office, that is Name and MC_INR_Billion\n",
    "8. Write a function to log the progress of the code.\n",
    "9. While executing the data initialization commands and function calls, maintain appropriate log entries."
   ]
  },
  {
   "cell_type": "markdown",
   "id": "8a2fe2b6-2bc4-4e42-9c8a-1cc24368f9de",
   "metadata": {},
   "source": [
    "importing packages/libraries"
   ]
  },
  {
   "cell_type": "code",
   "execution_count": 211,
   "id": "b6948999-cea7-4f0e-b63f-e9c0992c16f9",
   "metadata": {},
   "outputs": [],
   "source": [
    "import requests\n",
    "import pandas as pd\n",
    "from bs4 import BeautifulSoup\n",
    "from datetime import datetime\n",
    "import sqlite3"
   ]
  },
  {
   "cell_type": "code",
   "execution_count": 212,
   "id": "621d6095-dfe2-4960-9551-88bfd1eab41c",
   "metadata": {},
   "outputs": [],
   "source": [
    "url = 'https://web.archive.org/web/20230908091635 /https://en.wikipedia.org/wiki/List_of_largest_banks'\n",
    "output_CSV_path = './Largest_banks_data.csv'\n",
    "db_table_name = 'Largest_banks'\n",
    "db_name = 'Banks.db'\n",
    "log_file = 'code_log.txt'\n",
    "exchange_rates = 'exchange_rate.csv'"
   ]
  },
  {
   "cell_type": "code",
   "execution_count": 213,
   "id": "bbdee0b8-d8a1-4455-acee-eea58295c896",
   "metadata": {},
   "outputs": [],
   "source": [
    "def log_info(message):\n",
    "    ''' This function logs the messages to a log file with a timestamp.\n",
    "    The log file is created if it does not exist.\n",
    "    '''\n",
    "    file = 'code_log.txt'\n",
    "    timeStamp_format = '%Y-%m-%d %H:%M:%S'\n",
    "    timeStamp = datetime.now().strftime(timestamp_format)\n",
    "    with open(file, 'a+') as f:\n",
    "        f.write(f'{timeStamp} - {message}\\n')"
   ]
  },
  {
   "cell_type": "code",
   "execution_count": 214,
   "id": "a75c400e-9289-4959-8048-bebc4bfc7afa",
   "metadata": {},
   "outputs": [],
   "source": [
    "def extract(url, table_attribs):\n",
    "    '''\n",
    "    Scraping data from provided URL, parsing it and converting it into\n",
    "    a DataFrame.\n",
    "    '''\n",
    "    response = requests.get(url)\n",
    "    log_info(f'URL Fetched: status code is {response.status_code}')\n",
    "    if response.status_code == 200:\n",
    "        soup = BeautifulSoup(response.content, 'html.parser')\n",
    "        table = soup.find_all('table')[0]\n",
    "        rows = table.find_all('tr')\n",
    "        rows = rows[1:]\n",
    "        data = {}\n",
    "        # data['rank'] = []\n",
    "        data[table_attribs[0]] = []\n",
    "        data[table_attribs[1]] = []\n",
    "        for row in rows:\n",
    "            # rank = int(row.find_all('td')[0].text.strip())\n",
    "            bank_name = row.find_all('td')[1].find_all('a')[-1].text\n",
    "            market_cap = float(row.find_all('td')[2].text.strip())\n",
    "            # data['rank'].append(rank)\n",
    "            data[table_attribs[0]].append(bank_name)\n",
    "            data[table_attribs[1]].append(market_cap)\n",
    "        df = pd.DataFrame(data)\n",
    "        log_info('Extraction: data extracted and loaded into a DataFrame')\n",
    "        return df"
   ]
  },
  {
   "cell_type": "code",
   "execution_count": 215,
   "id": "94711da9-ec48-4bfa-bd41-16bc069a20b0",
   "metadata": {},
   "outputs": [],
   "source": [
    "def transform(df, csv_path):\n",
    "    ''' This function accesses the CSV file for exchange rate\n",
    "    information, and adds three columns to the data frame, each\n",
    "    containing the transformed version of Market Cap column to\n",
    "    respective currencies\n",
    "    '''\n",
    "    ex_df = pd.read_csv(exchange_rates, index_col='Currency') # Converting currency into a DF\n",
    "    df['MC_EUR_Billion'] = df['MC_USD_Billion'] * ex_df.loc['EUR','Rate']\n",
    "    df['MC_GBP_Billion'] = df['MC_USD_Billion'] * ex_df.loc['GBP','Rate']\n",
    "    df['MC_INR_Billion'] = df['MC_USD_Billion'] * ex_df.loc['INR','Rate']\n",
    "    log_info('Transformation: New currency added for EUR, GBP and INR')\n",
    "    return df"
   ]
  },
  {
   "cell_type": "code",
   "execution_count": 216,
   "id": "571a92ca-9a66-4d63-bbee-809f189365fe",
   "metadata": {},
   "outputs": [],
   "source": [
    "def load_to_csv(df, output_path):\n",
    "    ''' This function saves the final data frame as a CSV file in\n",
    "    the  provided path. Function returns nothing.'''\n",
    "    df.to_csv(output_path, index = False)\n",
    "    log_info('CSV file created: DataFramewritten in CSV file')\n",
    "    "
   ]
  },
  {
   "cell_type": "code",
   "execution_count": 217,
   "id": "7b680e90-805e-46db-9c22-67ffff769152",
   "metadata": {},
   "outputs": [],
   "source": [
    "def load_to_db(df, sql_connection, table_name):\n",
    "    ''' This function saves the final data frame to a database\n",
    "    table with the provided name. Function returns nothing.'''\n",
    "    try:\n",
    "        df.to_sql(table_name, sql_connection, if_exists = 'replace', index = False)\n",
    "    except:\n",
    "        print(\"Error encountered while accessing DB\")\n",
    "    finally:\n",
    "        log_info('CSV file created: DataFramewritten in CSV file')\n",
    "        sql_connection.close()"
   ]
  },
  {
   "cell_type": "code",
   "execution_count": 218,
   "id": "d1d60385-3ce3-478b-9d18-c0f9a6235361",
   "metadata": {},
   "outputs": [],
   "source": [
    "def run_query(query_statement, sql_connection):\n",
    "    ''' This function runs the query on the database table and\n",
    "    prints the output on the terminal. Function returns nothing. '''\n",
    "    db_df = pd.read_sql(query_statement,sql_connection)\n",
    "    sql_connection.close()\n",
    "    print(db_df)"
   ]
  },
  {
   "cell_type": "code",
   "execution_count": 220,
   "id": "0da4a406-4a38-4dda-99c4-420a699604dd",
   "metadata": {},
   "outputs": [
    {
     "name": "stdout",
     "output_type": "stream",
     "text": [
      "                                      Name  MC_USD_Billion  MC_EUR_Billion  \\\n",
      "0                           JPMorgan Chase          432.92          402.62   \n",
      "1                          Bank of America          231.52          215.31   \n",
      "2  Industrial and Commercial Bank of China          194.56          180.94   \n",
      "3               Agricultural Bank of China          160.68          149.43   \n",
      "4                                HDFC Bank          157.91          146.86   \n",
      "5                              Wells Fargo          155.87          144.96   \n",
      "6                        HSBC Holdings PLC          148.90          138.48   \n",
      "7                           Morgan Stanley          140.83          130.97   \n",
      "8                  China Construction Bank          139.82          130.03   \n",
      "9                            Bank of China          136.81          127.23   \n",
      "\n",
      "   MC_GBP_Billion  MC_INR_Billion  \n",
      "0          346.34        35910.71  \n",
      "1          185.22        19204.58  \n",
      "2          155.65        16138.75  \n",
      "3          128.54        13328.41  \n",
      "4          126.33        13098.63  \n",
      "5          124.70        12929.42  \n",
      "6          119.12        12351.26  \n",
      "7          112.66        11681.85  \n",
      "8          111.86        11598.07  \n",
      "9          109.45        11348.39  \n"
     ]
    }
   ],
   "source": [
    "# Extraction\n",
    "df = extract(url,['Name', 'MC_USD_Billion'])\n",
    "# Transformation\n",
    "new_df = transform(df, exchange_rates)\n",
    "new_df_rounded = new_df.round(2)\n",
    "# Loading to CSV\n",
    "load_to_csv(new_df_rounded,output_CSV_path)\n",
    "# Loading to SQL\n",
    "sql_connection = sqlite3.connect(db_name)\n",
    "load_to_db(new_df_rounded, sql_connection, db_table_name)\n",
    "# Querying\n",
    "sql_connection = sqlite3.connect(db_name)\n",
    "query = f'Select * FROM {db_table_name}'\n",
    "run_query(query, sql_connection)\n",
    "# run_query('SELECT Name from Largest_banks LIMIT 5', sql_connection)\n",
    "sql_connection.close()"
   ]
  },
  {
   "cell_type": "code",
   "execution_count": null,
   "id": "a99b1e9b-77be-4b9f-8579-502cb8490f4e",
   "metadata": {},
   "outputs": [],
   "source": []
  }
 ],
 "metadata": {
  "kernelspec": {
   "display_name": "Python 3 (ipykernel)",
   "language": "python",
   "name": "python3"
  },
  "language_info": {
   "codemirror_mode": {
    "name": "ipython",
    "version": 3
   },
   "file_extension": ".py",
   "mimetype": "text/x-python",
   "name": "python",
   "nbconvert_exporter": "python",
   "pygments_lexer": "ipython3",
   "version": "3.10.6"
  }
 },
 "nbformat": 4,
 "nbformat_minor": 5
}
