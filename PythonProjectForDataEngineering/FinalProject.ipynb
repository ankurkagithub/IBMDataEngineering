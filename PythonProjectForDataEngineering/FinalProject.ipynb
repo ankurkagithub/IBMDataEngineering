{
 "cells": [
  {
   "cell_type": "markdown",
   "id": "02293766-8ee2-43e5-9f44-1c049614652b",
   "metadata": {},
   "source": [
    "# Final Project Overview\n",
    "Your boss asked you to compile the list of the top 10 largest banks in the world ranked by market capitalization in billion USD. Further, you need to transform the data and store it in USD, GBP, EUR, and INR per the exchange rate information made available to you as a CSV file. You should save the processed information table locally in a CSV format and as a database table. Managers from different countries will query the database table to extract the list and note the market capitalization value in their own currency.\n",
    "\n",
    "## Direction\n",
    "1. Write a function to extract the tabular information from the given URL under the heading By Market Capitalization, and save it to a data frame.\n",
    "2. Write a function to transform the data frame by adding columns for Market Capitalization in GBP, EUR, and INR, rounded to 2 decimal places, based on the exchange rate information shared as a CSV file.\n",
    "3. Write a function to load the transformed data frame to an output CSV file.\n",
    "4. Write a function to load the transformed data frame to an SQL database server as a table.\n",
    "5. Write a function to run queries on the database table.\n",
    "6. Run the following queries on the database table:\n",
    "   - Extract the information for the London office, that is Name and MC_GBP_Billion\n",
    "   - Extract the information for the Berlin office, that is Name and MC_EUR_Billion\n",
    "   - Extract the information for New Delhi office, that is Name and MC_INR_Billion\n",
    "8. Write a function to log the progress of the code.\n",
    "9. While executing the data initialization commands and function calls, maintain appropriate log entries."
   ]
  },
  {
   "cell_type": "markdown",
   "id": "8a2fe2b6-2bc4-4e42-9c8a-1cc24368f9de",
   "metadata": {},
   "source": [
    "importing packages/libraries"
   ]
  },
  {
   "cell_type": "code",
   "execution_count": 107,
   "id": "b6948999-cea7-4f0e-b63f-e9c0992c16f9",
   "metadata": {},
   "outputs": [],
   "source": [
    "import requests\n",
    "import pandas as pd\n",
    "from bs4 import BeautifulSoup\n",
    "from datetime import datetime\n",
    "import sqlite3"
   ]
  },
  {
   "cell_type": "markdown",
   "id": "110922ac-d757-4d58-ae1d-a405450e041c",
   "metadata": {},
   "source": [
    "Creating a log function"
   ]
  },
  {
   "cell_type": "code",
   "execution_count": 99,
   "id": "bbdee0b8-d8a1-4455-acee-eea58295c896",
   "metadata": {},
   "outputs": [],
   "source": [
    "def log_info(data):\n",
    "    file = 'code_log.txt'\n",
    "    timeStamp_format = '%Y-%m-%d %H:%M:%S'\n",
    "    timeStamp = datetime.now().strftime(timestamp_format)\n",
    "    with open(file, 'a+') as f:\n",
    "        f.write(f'{timeStamp} - {data}\\n')"
   ]
  },
  {
   "cell_type": "markdown",
   "id": "2b43afa5-7b70-4d8f-8290-8f00241cb57e",
   "metadata": {},
   "source": [
    "Accessing URL data"
   ]
  },
  {
   "cell_type": "code",
   "execution_count": 135,
   "id": "621d6095-dfe2-4960-9551-88bfd1eab41c",
   "metadata": {},
   "outputs": [],
   "source": [
    "url = 'https://web.archive.org/web/20230908091635 /https://en.wikipedia.org/wiki/List_of_largest_banks'\n",
    "output_CSV_path = './Largest_banks_data.csv'\n",
    "db_table_name = 'Largest_banks'\n",
    "db_name = 'Banks.db'\n",
    "log_file = 'code_log.txt'\n",
    "exchange_rates = 'exchange_rate.csv'"
   ]
  },
  {
   "cell_type": "code",
   "execution_count": 144,
   "id": "a75c400e-9289-4959-8048-bebc4bfc7afa",
   "metadata": {},
   "outputs": [],
   "source": [
    "def extract(url, table_attribs):\n",
    "    response = requests.get(url)\n",
    "    log_info(f'URL Fetched: status code is {response.status_code}')\n",
    "    if response.status_code == 200:\n",
    "        soup = BeautifulSoup(response.content, 'html.parser')\n",
    "        table = soup.find_all('table')[0]\n",
    "        rows = table.find_all('tr')\n",
    "        rows = rows[1:]\n",
    "        data = {}\n",
    "        # data['rank'] = []\n",
    "        data[table_attribs[0]] = []\n",
    "        data[table_attribs[1]] = []\n",
    "        for row in rows:\n",
    "            # rank = int(row.find_all('td')[0].text.strip())\n",
    "            bank_name = row.find_all('td')[1].find_all('a')[-1].text\n",
    "            market_cap = float(row.find_all('td')[2].text.strip())\n",
    "            # data['rank'].append(rank)\n",
    "            data[table_attribs[0]].append(bank_name)\n",
    "            data[table_attribs[1]].append(market_cap)\n",
    "        df = pd.DataFrame(data)\n",
    "        log_info('Extraction: data extracted and loaded into a DataFrame')\n",
    "        return df"
   ]
  },
  {
   "cell_type": "code",
   "execution_count": 143,
   "id": "a7104aaf-1c7f-476c-a7bc-dd77c930a546",
   "metadata": {},
   "outputs": [
    {
     "data": {
      "text/plain": [
       "int"
      ]
     },
     "execution_count": 143,
     "metadata": {},
     "output_type": "execute_result"
    }
   ],
   "source": [
    "df = extract(url,['bank_name', 'market_cap(USD_billion)'])\n"
   ]
  },
  {
   "cell_type": "code",
   "execution_count": 164,
   "id": "94711da9-ec48-4bfa-bd41-16bc069a20b0",
   "metadata": {},
   "outputs": [],
   "source": [
    "def transform(df, csv_path):\n",
    "    ''' This function accesses the CSV file for exchange rate\n",
    "    information, and adds three columns to the data frame, each\n",
    "    containing the transformed version of Market Cap column to\n",
    "    respective currencies'''\n",
    "    ex_df = pd.read_csv(exchange_rates, index_col='Currency') # Converting currency into a DF\n",
    "    df['market_cap(EUR_billion)'] = df['market_cap(USD_billion)']*ex_df.loc['EUR','Rate']\n",
    "    df['market_cap(GBP_billion)'] = df['market_cap(USD_billion)']*ex_df.loc['GBP','Rate']\n",
    "    df['market_cap(INR_billion)'] = df['market_cap(USD_billion)']*ex_df.loc['INR','Rate']\n",
    "    log_info('Transformation: New currency added for EUR, GBP and INR')\n",
    "    return df"
   ]
  },
  {
   "cell_type": "code",
   "execution_count": 165,
   "id": "0da4a406-4a38-4dda-99c4-420a699604dd",
   "metadata": {},
   "outputs": [],
   "source": [
    "new_df = transform(df, exchange_rates)\n",
    "new_df_rounded = new_df.round(2)"
   ]
  },
  {
   "cell_type": "code",
   "execution_count": 166,
   "id": "571a92ca-9a66-4d63-bbee-809f189365fe",
   "metadata": {},
   "outputs": [],
   "source": [
    "def load_to_csv(df, output_path):\n",
    "    ''' This function saves the final data frame as a CSV file in\n",
    "    the  provided path. Function returns nothing.'''\n",
    "    df.to_csv(output_path, index = False)\n",
    "    log_info('CSV file created: DataFramewritten in CSV file')\n",
    "    "
   ]
  },
  {
   "cell_type": "code",
   "execution_count": 167,
   "id": "41b13014-b026-4dfc-9b9c-5b66b2c4851e",
   "metadata": {},
   "outputs": [],
   "source": [
    "load_to_csv(new_df_rounded,output_CSV_path)"
   ]
  },
  {
   "cell_type": "code",
   "execution_count": 169,
   "id": "7b680e90-805e-46db-9c22-67ffff769152",
   "metadata": {},
   "outputs": [],
   "source": [
    "def load_to_db(df, sql_connection, table_name):\n",
    "    ''' This function saves the final data frame to a database\n",
    "    table with the provided name. Function returns nothing.'''\n",
    "    try:\n",
    "        df.to_sql(table_name, sql_connection, if_exists = 'replace', index = False)\n",
    "    except:\n",
    "        print(\"Error encountered while accessing DB\")\n",
    "    finally:\n",
    "        log_info('CSV file created: DataFramewritten in CSV file')\n",
    "        sql_connection.close()"
   ]
  },
  {
   "cell_type": "code",
   "execution_count": 170,
   "id": "54be5ba2-3793-4b3c-88ea-91b0f6a63f68",
   "metadata": {},
   "outputs": [],
   "source": [
    "sql_connection = sqlite3.connect(db_name)\n",
    "load_to_db(new_df_rounded, sql_connection, db_table_name)"
   ]
  },
  {
   "cell_type": "code",
   "execution_count": 172,
   "id": "f4edcde8-4cf0-4a43-bf0b-f355dd1927f6",
   "metadata": {},
   "outputs": [],
   "source": [
    "def run_query(query_statement, sql_connection):\n",
    "    ''' This function runs the query on the database table and\n",
    "    prints the output on the terminal. Function returns nothing. '''\n",
    "    db_df = pd.read_sql(query_statement,sql_connection)\n",
    "    sql_connection.close()\n",
    "    print(db_df)"
   ]
  },
  {
   "cell_type": "code",
   "execution_count": 173,
   "id": "941c02cb-8381-4c16-9983-4a47a5115075",
   "metadata": {},
   "outputs": [
    {
     "name": "stdout",
     "output_type": "stream",
     "text": [
      "                                 bank_name  market_cap(USD_billion)  \\\n",
      "0                           JPMorgan Chase                   432.92   \n",
      "1                          Bank of America                   231.52   \n",
      "2  Industrial and Commercial Bank of China                   194.56   \n",
      "3               Agricultural Bank of China                   160.68   \n",
      "4                                HDFC Bank                   157.91   \n",
      "5                              Wells Fargo                   155.87   \n",
      "6                        HSBC Holdings PLC                   148.90   \n",
      "7                           Morgan Stanley                   140.83   \n",
      "8                  China Construction Bank                   139.82   \n",
      "9                            Bank of China                   136.81   \n",
      "\n",
      "   market_cap(EUR_billion)  market_cap(GBP_billion)  market_cap(INR_billion)  \n",
      "0                   402.62                   346.34                 35910.71  \n",
      "1                   215.31                   185.22                 19204.58  \n",
      "2                   180.94                   155.65                 16138.75  \n",
      "3                   149.43                   128.54                 13328.41  \n",
      "4                   146.86                   126.33                 13098.63  \n",
      "5                   144.96                   124.70                 12929.42  \n",
      "6                   138.48                   119.12                 12351.26  \n",
      "7                   130.97                   112.66                 11681.85  \n",
      "8                   130.03                   111.86                 11598.07  \n",
      "9                   127.23                   109.45                 11348.39  \n"
     ]
    }
   ],
   "source": [
    "sql_connection = sqlite3.connect(db_name)\n",
    "query = f'Select * FROM {db_table_name}'\n",
    "run_query(query, sql_connection)\n",
    "sql_connection.close()"
   ]
  },
  {
   "cell_type": "code",
   "execution_count": null,
   "id": "d2062e62-3215-49bb-a73d-7b20de9dac2b",
   "metadata": {},
   "outputs": [],
   "source": []
  }
 ],
 "metadata": {
  "kernelspec": {
   "display_name": "Python 3 (ipykernel)",
   "language": "python",
   "name": "python3"
  },
  "language_info": {
   "codemirror_mode": {
    "name": "ipython",
    "version": 3
   },
   "file_extension": ".py",
   "mimetype": "text/x-python",
   "name": "python",
   "nbconvert_exporter": "python",
   "pygments_lexer": "ipython3",
   "version": "3.10.6"
  }
 },
 "nbformat": 4,
 "nbformat_minor": 5
}
