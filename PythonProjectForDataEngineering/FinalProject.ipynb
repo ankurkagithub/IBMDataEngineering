{
 "cells": [
  {
   "cell_type": "markdown",
   "id": "02293766-8ee2-43e5-9f44-1c049614652b",
   "metadata": {},
   "source": [
    "# Final Project Overview\n",
    "Your boss asked you to compile the list of the top 10 largest banks in the world ranked by market capitalization in billion USD. Further, you need to transform the data and store it in USD, GBP, EUR, and INR per the exchange rate information made available to you as a CSV file. You should save the processed information table locally in a CSV format and as a database table. Managers from different countries will query the database table to extract the list and note the market capitalization value in their own currency.\n",
    "\n",
    "## Direction\n",
    "1. Write a function to extract the tabular information from the given URL under the heading By Market Capitalization, and save it to a data frame.\n",
    "2. Write a function to transform the data frame by adding columns for Market Capitalization in GBP, EUR, and INR, rounded to 2 decimal places, based on the exchange rate information shared as a CSV file.\n",
    "3. Write a function to load the transformed data frame to an output CSV file.\n",
    "4. Write a function to load the transformed data frame to an SQL database server as a table.\n",
    "5. Write a function to run queries on the database table.\n",
    "6. Run the following queries on the database table:\n",
    "   - Extract the information for the London office, that is Name and MC_GBP_Billion\n",
    "   - Extract the information for the Berlin office, that is Name and MC_EUR_Billion\n",
    "   - Extract the information for New Delhi office, that is Name and MC_INR_Billion\n",
    "8. Write a function to log the progress of the code.\n",
    "9. While executing the data initialization commands and function calls, maintain appropriate log entries."
   ]
  },
  {
   "cell_type": "code",
   "execution_count": null,
   "id": "b6948999-cea7-4f0e-b63f-e9c0992c16f9",
   "metadata": {},
   "outputs": [],
   "source": []
  }
 ],
 "metadata": {
  "kernelspec": {
   "display_name": "Python 3 (ipykernel)",
   "language": "python",
   "name": "python3"
  },
  "language_info": {
   "codemirror_mode": {
    "name": "ipython",
    "version": 3
   },
   "file_extension": ".py",
   "mimetype": "text/x-python",
   "name": "python",
   "nbconvert_exporter": "python",
   "pygments_lexer": "ipython3",
   "version": "3.10.6"
  }
 },
 "nbformat": 4,
 "nbformat_minor": 5
}
