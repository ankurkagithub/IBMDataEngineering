{
 "cells": [
  {
   "cell_type": "markdown",
   "id": "02293766-8ee2-43e5-9f44-1c049614652b",
   "metadata": {},
   "source": [
    "# Final Project Overview\n",
    "Your boss asked you to compile the list of the top 10 largest banks in the world ranked by market capitalization in billion USD. Further, you need to transform the data and store it in USD, GBP, EUR, and INR per the exchange rate information made available to you as a CSV file. You should save the processed information table locally in a CSV format and as a database table. Managers from different countries will query the database table to extract the list and note the market capitalization value in their own currency.\n",
    "\n",
    "## Direction\n",
    "1. Write a function to extract the tabular information from the given URL under the heading By Market Capitalization, and save it to a data frame.\n",
    "2. Write a function to transform the data frame by adding columns for Market Capitalization in GBP, EUR, and INR, rounded to 2 decimal places, based on the exchange rate information shared as a CSV file.\n",
    "3. Write a function to load the transformed data frame to an output CSV file.\n",
    "4. Write a function to load the transformed data frame to an SQL database server as a table.\n",
    "5. Write a function to run queries on the database table.\n",
    "6. Run the following queries on the database table:\n",
    "   - Extract the information for the London office, that is Name and MC_GBP_Billion\n",
    "   - Extract the information for the Berlin office, that is Name and MC_EUR_Billion\n",
    "   - Extract the information for New Delhi office, that is Name and MC_INR_Billion\n",
    "8. Write a function to log the progress of the code.\n",
    "9. While executing the data initialization commands and function calls, maintain appropriate log entries."
   ]
  },
  {
   "cell_type": "markdown",
   "id": "8a2fe2b6-2bc4-4e42-9c8a-1cc24368f9de",
   "metadata": {},
   "source": [
    "importing packages/libraries"
   ]
  },
  {
   "cell_type": "code",
   "execution_count": 107,
   "id": "b6948999-cea7-4f0e-b63f-e9c0992c16f9",
   "metadata": {},
   "outputs": [],
   "source": [
    "import requests\n",
    "import pandas as pd\n",
    "from bs4 import BeautifulSoup\n",
    "from datetime import datetime\n",
    "import sqlite3"
   ]
  },
  {
   "cell_type": "markdown",
   "id": "110922ac-d757-4d58-ae1d-a405450e041c",
   "metadata": {},
   "source": [
    "Creating a log function"
   ]
  },
  {
   "cell_type": "code",
   "execution_count": 99,
   "id": "bbdee0b8-d8a1-4455-acee-eea58295c896",
   "metadata": {},
   "outputs": [],
   "source": [
    "def log_info(data):\n",
    "    file = 'code_log.txt'\n",
    "    timeStamp_format = '%Y-%m-%d %H:%M:%S'\n",
    "    timeStamp = datetime.now().strftime(timestamp_format)\n",
    "    with open(file, 'a+') as f:\n",
    "        f.write(f'{timeStamp} - {data}\\n')"
   ]
  },
  {
   "cell_type": "markdown",
   "id": "2b43afa5-7b70-4d8f-8290-8f00241cb57e",
   "metadata": {},
   "source": [
    "Accessing URL data"
   ]
  },
  {
   "cell_type": "code",
   "execution_count": 100,
   "id": "621d6095-dfe2-4960-9551-88bfd1eab41c",
   "metadata": {},
   "outputs": [],
   "source": [
    "url = 'https://web.archive.org/web/20230908091635 /https://en.wikipedia.org/wiki/List_of_largest_banks'\n",
    "response = requests.get(url)\n",
    "log_info(f'URL accessed with confirmation code {response.status_code}')"
   ]
  },
  {
   "cell_type": "markdown",
   "id": "19cf98be-7a44-4434-8f6a-de57dab50bd5",
   "metadata": {},
   "source": [
    "Parsing HTML page"
   ]
  },
  {
   "cell_type": "code",
   "execution_count": 101,
   "id": "b2d206a0-e778-40e9-82a3-f4c77132205b",
   "metadata": {},
   "outputs": [],
   "source": [
    "soup = BeautifulSoup(response.content, 'html.parser')"
   ]
  },
  {
   "cell_type": "markdown",
   "id": "ab5f34aa-4aca-46e1-a668-9d5f2213cf20",
   "metadata": {},
   "source": [
    "Fetching data from parsed data (soup)"
   ]
  },
  {
   "cell_type": "code",
   "execution_count": 102,
   "id": "a75c400e-9289-4959-8048-bebc4bfc7afa",
   "metadata": {},
   "outputs": [],
   "source": [
    "def extract(soup):\n",
    "    table = soup.find_all('table')[0]\n",
    "    rows = table.find_all('tr')\n",
    "    rows = rows[1:]\n",
    "    data = {}\n",
    "    data['rank'] = []\n",
    "    data['bank_name'] = []\n",
    "    data['market_cap(USD_billion)'] = []\n",
    "    for row in rows:\n",
    "        rank = int(row.find_all('td')[0].text.strip())\n",
    "        bank_name = row.find_all('td')[1].find_all('a')[-1].text\n",
    "        market_cap = float(row.find_all('td')[2].text.strip())\n",
    "        data['rank'].append(rank)\n",
    "        data['bank_name'].append(bank_name)\n",
    "        data['market_cap(USD_billion)'].append(market_cap)\n",
    "    return data"
   ]
  },
  {
   "cell_type": "code",
   "execution_count": 106,
   "id": "a7104aaf-1c7f-476c-a7bc-dd77c930a546",
   "metadata": {},
   "outputs": [],
   "source": [
    "data = extract(soup)\n",
    "df = pd.DataFrame(data)\n",
    "log_info('data extracted and loaded into a DataFrame')"
   ]
  },
  {
   "cell_type": "code",
   "execution_count": 104,
   "id": "dc1e176c-aa52-45ac-ad22-9dfc2eff4319",
   "metadata": {},
   "outputs": [
    {
     "data": {
      "text/html": [
       "<div>\n",
       "<style scoped>\n",
       "    .dataframe tbody tr th:only-of-type {\n",
       "        vertical-align: middle;\n",
       "    }\n",
       "\n",
       "    .dataframe tbody tr th {\n",
       "        vertical-align: top;\n",
       "    }\n",
       "\n",
       "    .dataframe thead th {\n",
       "        text-align: right;\n",
       "    }\n",
       "</style>\n",
       "<table border=\"1\" class=\"dataframe\">\n",
       "  <thead>\n",
       "    <tr style=\"text-align: right;\">\n",
       "      <th></th>\n",
       "      <th>rank</th>\n",
       "      <th>bank_name</th>\n",
       "      <th>market_cap(USD_billion)</th>\n",
       "    </tr>\n",
       "  </thead>\n",
       "  <tbody>\n",
       "    <tr>\n",
       "      <th>0</th>\n",
       "      <td>1</td>\n",
       "      <td>JPMorgan Chase</td>\n",
       "      <td>432.92</td>\n",
       "    </tr>\n",
       "    <tr>\n",
       "      <th>1</th>\n",
       "      <td>2</td>\n",
       "      <td>Bank of America</td>\n",
       "      <td>231.52</td>\n",
       "    </tr>\n",
       "    <tr>\n",
       "      <th>2</th>\n",
       "      <td>3</td>\n",
       "      <td>Industrial and Commercial Bank of China</td>\n",
       "      <td>194.56</td>\n",
       "    </tr>\n",
       "    <tr>\n",
       "      <th>3</th>\n",
       "      <td>4</td>\n",
       "      <td>Agricultural Bank of China</td>\n",
       "      <td>160.68</td>\n",
       "    </tr>\n",
       "    <tr>\n",
       "      <th>4</th>\n",
       "      <td>5</td>\n",
       "      <td>HDFC Bank</td>\n",
       "      <td>157.91</td>\n",
       "    </tr>\n",
       "    <tr>\n",
       "      <th>5</th>\n",
       "      <td>6</td>\n",
       "      <td>Wells Fargo</td>\n",
       "      <td>155.87</td>\n",
       "    </tr>\n",
       "    <tr>\n",
       "      <th>6</th>\n",
       "      <td>7</td>\n",
       "      <td>HSBC Holdings PLC</td>\n",
       "      <td>148.90</td>\n",
       "    </tr>\n",
       "    <tr>\n",
       "      <th>7</th>\n",
       "      <td>8</td>\n",
       "      <td>Morgan Stanley</td>\n",
       "      <td>140.83</td>\n",
       "    </tr>\n",
       "    <tr>\n",
       "      <th>8</th>\n",
       "      <td>9</td>\n",
       "      <td>China Construction Bank</td>\n",
       "      <td>139.82</td>\n",
       "    </tr>\n",
       "    <tr>\n",
       "      <th>9</th>\n",
       "      <td>10</td>\n",
       "      <td>Bank of China</td>\n",
       "      <td>136.81</td>\n",
       "    </tr>\n",
       "  </tbody>\n",
       "</table>\n",
       "</div>"
      ],
      "text/plain": [
       "   rank                                bank_name  market_cap(USD_billion)\n",
       "0     1                           JPMorgan Chase                   432.92\n",
       "1     2                          Bank of America                   231.52\n",
       "2     3  Industrial and Commercial Bank of China                   194.56\n",
       "3     4               Agricultural Bank of China                   160.68\n",
       "4     5                                HDFC Bank                   157.91\n",
       "5     6                              Wells Fargo                   155.87\n",
       "6     7                        HSBC Holdings PLC                   148.90\n",
       "7     8                           Morgan Stanley                   140.83\n",
       "8     9                  China Construction Bank                   139.82\n",
       "9    10                            Bank of China                   136.81"
      ]
     },
     "execution_count": 104,
     "metadata": {},
     "output_type": "execute_result"
    }
   ],
   "source": [
    "df"
   ]
  },
  {
   "cell_type": "code",
   "execution_count": null,
   "id": "94711da9-ec48-4bfa-bd41-16bc069a20b0",
   "metadata": {},
   "outputs": [],
   "source": []
  }
 ],
 "metadata": {
  "kernelspec": {
   "display_name": "Python 3 (ipykernel)",
   "language": "python",
   "name": "python3"
  },
  "language_info": {
   "codemirror_mode": {
    "name": "ipython",
    "version": 3
   },
   "file_extension": ".py",
   "mimetype": "text/x-python",
   "name": "python",
   "nbconvert_exporter": "python",
   "pygments_lexer": "ipython3",
   "version": "3.10.6"
  }
 },
 "nbformat": 4,
 "nbformat_minor": 5
}
